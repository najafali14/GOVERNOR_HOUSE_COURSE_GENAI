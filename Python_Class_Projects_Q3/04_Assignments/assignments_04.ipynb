{
  "nbformat": 4,
  "nbformat_minor": 0,
  "metadata": {
    "colab": {
      "provenance": []
    },
    "kernelspec": {
      "name": "python3",
      "display_name": "Python 3"
    },
    "language_info": {
      "name": "python"
    }
  },
  "cells": [
    {
      "cell_type": "markdown",
      "source": [
        "# ***Mad libs Python Project***"
      ],
      "metadata": {
        "id": "e2JTv-djG8RX"
      }
    },
    {
      "cell_type": "code",
      "execution_count": null,
      "metadata": {
        "colab": {
          "base_uri": "https://localhost:8080/"
        },
        "id": "a5i2KXoxEi4D",
        "outputId": "f41d8caf-8b58-4259-ca60-4a2ef7c7be4f"
      },
      "outputs": [
        {
          "output_type": "stream",
          "name": "stdout",
          "text": [
            "Enter your name: Ali Abbas\n",
            "Enter your age: 8\n",
            "Dear student your name:Ali Abbas and your age:8.0 is submitted successfully in our database\n"
          ]
        }
      ],
      "source": [
        "database = []\n",
        "name = input(\"Enter your name: \")\n",
        "age = float(input(\"Enter your age: \"))\n",
        "database.append(name)\n",
        "database.append(age)\n",
        "print(f\"Dear student your name:{name} and your age:{age} is submitted successfully in our database\")"
      ]
    },
    {
      "cell_type": "markdown",
      "source": [
        "# ***Guess the Number Game Python Project (computer)***"
      ],
      "metadata": {
        "id": "Xr7zpwU1HJbh"
      }
    },
    {
      "cell_type": "code",
      "source": [
        "import random as r\n",
        "def guess_number(num1,num2):\n",
        "  generated_number = r.randint(1,100)\n",
        "  print(f\"wining number is: {generated_number}\")\n",
        "  while True:\n",
        "    if num1 == generated_number:\n",
        "      print(\"You win the game\")\n",
        "      break\n",
        "    elif num2 == generated_number:\n",
        "      print(\"You win the game\")\n",
        "      break\n",
        "    else:\n",
        "      print(\"You lose the game\")\n",
        "      break\n",
        "user1 = int(input(\"Enter the first number: \"))\n",
        "user2 = int(input(\"Enter the second number: \"))\n",
        "guess_number(user1,user2)\n"
      ],
      "metadata": {
        "colab": {
          "base_uri": "https://localhost:8080/"
        },
        "id": "LT5n1ly2HPLG",
        "outputId": "c64f4651-6649-45c4-a022-0dafe9284add"
      },
      "execution_count": null,
      "outputs": [
        {
          "output_type": "stream",
          "name": "stdout",
          "text": [
            "Enter the first number: 6\n",
            "Enter the second number: 7\n",
            "wining number is: 69\n",
            "You lose the game\n"
          ]
        }
      ]
    },
    {
      "cell_type": "markdown",
      "source": [
        "# ***Guess the Number Game Python Project (user)***"
      ],
      "metadata": {
        "id": "PO0tebVvMkps"
      }
    },
    {
      "cell_type": "code",
      "source": [
        "import random as r\n",
        "print(\"🎯 Welcome to Guess the Number!\\n\")\n",
        "def guess_number(num1):\n",
        "  generated_number = r.randint(1,100)\n",
        "  print(f\"wining number is: {generated_number}\")\n",
        "  while True:\n",
        "    if num1 == generated_number:\n",
        "      print(\"You win the game\")\n",
        "      break\n",
        "    else:\n",
        "      print(\"You lose the game\")\n",
        "      break\n",
        "user1 = int(input(\"Enter the first number: \"))\n",
        "guess_number(user1)\n"
      ],
      "metadata": {
        "colab": {
          "base_uri": "https://localhost:8080/"
        },
        "id": "K3xZGztZNo2W",
        "outputId": "f899fc9b-600e-4217-b0b1-23c5f2a0fab4"
      },
      "execution_count": null,
      "outputs": [
        {
          "output_type": "stream",
          "name": "stdout",
          "text": [
            "🎯 Welcome to Guess the Number!\n",
            "\n",
            "Enter the first number: 6\n",
            "wining number is: 76\n",
            "You lose the game\n"
          ]
        }
      ]
    },
    {
      "cell_type": "markdown",
      "source": [
        "# ***Rock, paper, scissors Python Project***"
      ],
      "metadata": {
        "id": "eTUnCDWBOX_M"
      }
    },
    {
      "cell_type": "code",
      "source": [
        "import random as r\n",
        "data = [\"rock\", \"paper\", \"scissors\"]\n",
        "\n",
        "def user():\n",
        "  user_input = input(\"Enter rock, paper, or scissors: \")\n",
        "  if user_input not in data:\n",
        "    print(\"invalid\")\n",
        "    return user()\n",
        "  return user_input\n",
        "def computer():\n",
        "  computer_input = r.choice(data)\n",
        "  return computer_input\n",
        "\n",
        "def winner(user_input,computer_input):\n",
        "  print(f\"Your choice is: {user_input}\")\n",
        "  print(f\"computer choice is: {computer_input}\")\n",
        "\n",
        "  winner = r.choice(data)\n",
        "  if user_input == computer_input:\n",
        "    print(\"tie\")\n",
        "    print(f\"winner is : {winner}\")\n",
        "\n",
        "\n",
        "  elif user_input == \"rock\" and computer_input == \"scissors\":\n",
        "    winner = \"user\"\n",
        "    print(f\"winner is : {winner}\")\n",
        "\n",
        "\n",
        "  elif user_input == \"paper\" and computer_input == \"rock\":\n",
        "    winner = \"user\"\n",
        "    print(f\"winner is : {winner}\")\n",
        "\n",
        "\n",
        "  elif user_input == \"scissors\" and computer_input == \"paper\":\n",
        "    winner = \"user\"\n",
        "    print(f\"winner is : {winner}\")\n",
        "\n",
        "\n",
        "  else:\n",
        "    winner = \"computer\"\n",
        "    print(f\"winner is : {winner}\")\n",
        "\n",
        "\n",
        "user()\n",
        "computer()\n",
        "winner(user(),computer())"
      ],
      "metadata": {
        "colab": {
          "base_uri": "https://localhost:8080/"
        },
        "id": "xAI6hxNpOlSa",
        "outputId": "bac6438a-3275-4dd9-cce4-441193404d65"
      },
      "execution_count": null,
      "outputs": [
        {
          "output_type": "stream",
          "name": "stdout",
          "text": [
            "Enter rock, paper, or scissors: rock\n",
            "Enter rock, paper, or scissors: paper\n",
            "Your choice is: paper\n",
            "computer choice is: rock\n",
            "winner is : user\n"
          ]
        }
      ]
    },
    {
      "cell_type": "markdown",
      "source": [
        "# ***Hangman Python Project***"
      ],
      "metadata": {
        "id": "d5nhv5Pj-HAg"
      }
    },
    {
      "cell_type": "code",
      "source": [
        "import random\n",
        "\n",
        "# List of words\n",
        "word_list = [\"python\", \"hangman\", \"coding\", \"developer\", \"project\", \"function\", \"variable\", \"streamlit\"]\n",
        "\n",
        "def get_random_word(word_list):\n",
        "    return random.choice(word_list).lower()\n",
        "\n",
        "def display_word(word, guessed_letters):\n",
        "    return \" \".join([letter if letter in guessed_letters else \"_\" for letter in word])\n",
        "\n",
        "def hangman():\n",
        "    word = get_random_word(word_list)\n",
        "    guessed_letters = []\n",
        "    tries = 6  # Number of wrong attempts allowed\n",
        "\n",
        "    print(\"🎉 Welcome to Hangman!\")\n",
        "    print(f\"The word has {len(word)} letters.\")\n",
        "    print(display_word(word, guessed_letters))\n",
        "\n",
        "    while tries > 0:\n",
        "        guess = input(\"Guess a letter: \").lower()\n",
        "\n",
        "        if not guess.isalpha() or len(guess) != 1:\n",
        "            print(\"⛔ Please enter a single letter.\")\n",
        "            continue\n",
        "\n",
        "        if guess in guessed_letters:\n",
        "            print(\"🔁 You already guessed that letter.\")\n",
        "            continue\n",
        "\n",
        "        guessed_letters.append(guess)\n",
        "\n",
        "        if guess in word:\n",
        "            print(\"✅ Good guess!\")\n",
        "        else:\n",
        "            tries -= 1\n",
        "            print(f\"❌ Wrong guess! Tries left: {tries}\")\n",
        "\n",
        "        print(display_word(word, guessed_letters))\n",
        "\n",
        "        # Check for win\n",
        "        if all(letter in guessed_letters for letter in word):\n",
        "            print(\"🎉 You won! The word was:\", word)\n",
        "            break\n",
        "\n",
        "    else:\n",
        "        print(\"💀 Game over! The word was:\", word)\n",
        "\n",
        "# Start the game\n",
        "if __name__ == \"__main__\":\n",
        "    hangman()\n"
      ],
      "metadata": {
        "colab": {
          "base_uri": "https://localhost:8080/"
        },
        "id": "c_qCYHAV-MT5",
        "outputId": "58e7715b-e168-4b46-ad20-55f580656a85"
      },
      "execution_count": null,
      "outputs": [
        {
          "output_type": "stream",
          "name": "stdout",
          "text": [
            "🎉 Welcome to Hangman!\n",
            "The word has 8 letters.\n",
            "_ _ _ _ _ _ _ _\n",
            "Guess a letter: h\n",
            "❌ Wrong guess! Tries left: 5\n",
            "_ _ _ _ _ _ _ _\n",
            "Guess a letter: p\n",
            "❌ Wrong guess! Tries left: 4\n",
            "_ _ _ _ _ _ _ _\n",
            "Guess a letter: s\n",
            "❌ Wrong guess! Tries left: 3\n",
            "_ _ _ _ _ _ _ _\n",
            "Guess a letter: g\n",
            "❌ Wrong guess! Tries left: 2\n",
            "_ _ _ _ _ _ _ _\n",
            "Guess a letter: c\n",
            "❌ Wrong guess! Tries left: 1\n",
            "_ _ _ _ _ _ _ _\n",
            "Guess a letter: g\n",
            "🔁 You already guessed that letter.\n",
            "Guess a letter: h\n",
            "🔁 You already guessed that letter.\n",
            "Guess a letter: k\n",
            "❌ Wrong guess! Tries left: 0\n",
            "_ _ _ _ _ _ _ _\n",
            "💀 Game over! The word was: variable\n"
          ]
        }
      ]
    },
    {
      "cell_type": "markdown",
      "source": [
        "# ***Countdown Timer Python Project***"
      ],
      "metadata": {
        "id": "RgORBP1R-SFy"
      }
    },
    {
      "cell_type": "code",
      "source": [
        "import time\n",
        "\n",
        "# Ask the user for input\n",
        "minutes = int(input(\"Enter minutes: \"))\n",
        "seconds = int(input(\"Enter seconds: \"))\n",
        "\n",
        "# Convert total time to seconds\n",
        "total_seconds = minutes * 60 + seconds\n",
        "\n",
        "# Countdown loop\n",
        "while total_seconds > 0:\n",
        "    mins, secs = divmod(total_seconds, 60)\n",
        "    timer = f'{mins:02d}:{secs:02d}'\n",
        "    print(\"⏳\", timer, end=\"\\r\")  # \\r keeps it on the same line\n",
        "    time.sleep(1)\n",
        "    total_seconds -= 1\n",
        "\n",
        "# Time is up!\n",
        "print(\"⏰ Time's up!             \")\n"
      ],
      "metadata": {
        "colab": {
          "base_uri": "https://localhost:8080/"
        },
        "id": "wf95N8zF_TJn",
        "outputId": "3054bfdd-bdef-4b4a-c4d3-3e52c19cc1e0"
      },
      "execution_count": null,
      "outputs": [
        {
          "output_type": "stream",
          "name": "stdout",
          "text": [
            "Enter minutes: 0\n",
            "Enter seconds: 10\n",
            "⏰ Time's up!             \n"
          ]
        }
      ]
    },
    {
      "cell_type": "markdown",
      "source": [
        "# ***Password Generator Python Project***"
      ],
      "metadata": {
        "id": "PB-NY_cr_WKb"
      }
    },
    {
      "cell_type": "code",
      "source": [
        "import random\n",
        "import string\n",
        "\n",
        "# Ask the user how long the password should be\n",
        "length = int(input(\"Enter the desired password length: \"))\n",
        "\n",
        "# Define the characters to choose from\n",
        "characters = string.ascii_letters + string.digits + string.punctuation\n",
        "# ascii_letters = a-z + A-Z\n",
        "# digits = 0-9\n",
        "# punctuation = !@#$%^&*(), etc.\n",
        "\n",
        "# Generate password\n",
        "password = \"\".join(random.choice(characters) for _ in range(length))\n",
        "\n",
        "print(\"Generated password:\", password)\n"
      ],
      "metadata": {
        "colab": {
          "base_uri": "https://localhost:8080/"
        },
        "id": "fWZ--nJqAT09",
        "outputId": "be1c1708-fc72-439d-b6e5-86be61559b42"
      },
      "execution_count": null,
      "outputs": [
        {
          "output_type": "stream",
          "name": "stdout",
          "text": [
            "Enter the desired password length: 8\n",
            "Generated password: 2TAs[bR7\n"
          ]
        }
      ]
    },
    {
      "cell_type": "markdown",
      "source": [],
      "metadata": {
        "id": "lvSKNz8Achd6"
      }
    }
  ]
}